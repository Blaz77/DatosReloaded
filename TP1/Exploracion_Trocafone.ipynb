{
 "cells": [
  {
   "cell_type": "code",
   "execution_count": 1,
   "metadata": {},
   "outputs": [],
   "source": [
    "import pyspark\n",
    "import matplotlib.pyplot as plt\n",
    "import numpy as np\n",
    "import seaborn as sbn\n",
    "import pandas as pd\n",
    "\n",
    "%matplotlib inline\n",
    "\n",
    "plt.style.use('default') \n",
    "\n",
    "sbn.set(style=\"whitegrid\") \n"
   ]
  },
  {
   "cell_type": "code",
   "execution_count": 2,
   "metadata": {},
   "outputs": [],
   "source": [
    "trocafoneData = pd.read_csv('/home/lucas/Documentos/Facultad/OrgaDeDatos/tp/events.csv',low_memory = False)"
   ]
  },
  {
   "cell_type": "code",
   "execution_count": 3,
   "metadata": {},
   "outputs": [
    {
     "data": {
      "text/html": [
       "<div>\n",
       "<style scoped>\n",
       "    .dataframe tbody tr th:only-of-type {\n",
       "        vertical-align: middle;\n",
       "    }\n",
       "\n",
       "    .dataframe tbody tr th {\n",
       "        vertical-align: top;\n",
       "    }\n",
       "\n",
       "    .dataframe thead th {\n",
       "        text-align: right;\n",
       "    }\n",
       "</style>\n",
       "<table border=\"1\" class=\"dataframe\">\n",
       "  <thead>\n",
       "    <tr style=\"text-align: right;\">\n",
       "      <th></th>\n",
       "      <th>timestamp</th>\n",
       "      <th>event</th>\n",
       "      <th>person</th>\n",
       "      <th>url</th>\n",
       "      <th>sku</th>\n",
       "      <th>model</th>\n",
       "      <th>condition</th>\n",
       "      <th>storage</th>\n",
       "      <th>color</th>\n",
       "      <th>skus</th>\n",
       "      <th>...</th>\n",
       "      <th>search_engine</th>\n",
       "      <th>channel</th>\n",
       "      <th>new_vs_returning</th>\n",
       "      <th>city</th>\n",
       "      <th>region</th>\n",
       "      <th>country</th>\n",
       "      <th>device_type</th>\n",
       "      <th>screen_resolution</th>\n",
       "      <th>operating_system_version</th>\n",
       "      <th>browser_version</th>\n",
       "    </tr>\n",
       "  </thead>\n",
       "  <tbody>\n",
       "    <tr>\n",
       "      <th>0</th>\n",
       "      <td>2018-05-31 23:38:05</td>\n",
       "      <td>ad campaign hit</td>\n",
       "      <td>0004b0a2</td>\n",
       "      <td>/comprar/iphone/iphone-5s</td>\n",
       "      <td>NaN</td>\n",
       "      <td>NaN</td>\n",
       "      <td>NaN</td>\n",
       "      <td>NaN</td>\n",
       "      <td>NaN</td>\n",
       "      <td>NaN</td>\n",
       "      <td>...</td>\n",
       "      <td>NaN</td>\n",
       "      <td>NaN</td>\n",
       "      <td>NaN</td>\n",
       "      <td>NaN</td>\n",
       "      <td>NaN</td>\n",
       "      <td>NaN</td>\n",
       "      <td>NaN</td>\n",
       "      <td>NaN</td>\n",
       "      <td>NaN</td>\n",
       "      <td>NaN</td>\n",
       "    </tr>\n",
       "    <tr>\n",
       "      <th>1</th>\n",
       "      <td>2018-05-31 23:38:05</td>\n",
       "      <td>visited site</td>\n",
       "      <td>0004b0a2</td>\n",
       "      <td>NaN</td>\n",
       "      <td>NaN</td>\n",
       "      <td>NaN</td>\n",
       "      <td>NaN</td>\n",
       "      <td>NaN</td>\n",
       "      <td>NaN</td>\n",
       "      <td>NaN</td>\n",
       "      <td>...</td>\n",
       "      <td>NaN</td>\n",
       "      <td>Paid</td>\n",
       "      <td>New</td>\n",
       "      <td>Camaragibe</td>\n",
       "      <td>Pernambuco</td>\n",
       "      <td>Brazil</td>\n",
       "      <td>Smartphone</td>\n",
       "      <td>360x640</td>\n",
       "      <td>Android 6</td>\n",
       "      <td>Chrome Mobile 39</td>\n",
       "    </tr>\n",
       "    <tr>\n",
       "      <th>2</th>\n",
       "      <td>2018-05-31 23:38:09</td>\n",
       "      <td>viewed product</td>\n",
       "      <td>0004b0a2</td>\n",
       "      <td>NaN</td>\n",
       "      <td>2694.0</td>\n",
       "      <td>iPhone 5s</td>\n",
       "      <td>Bom</td>\n",
       "      <td>32GB</td>\n",
       "      <td>Cinza espacial</td>\n",
       "      <td>NaN</td>\n",
       "      <td>...</td>\n",
       "      <td>NaN</td>\n",
       "      <td>NaN</td>\n",
       "      <td>NaN</td>\n",
       "      <td>NaN</td>\n",
       "      <td>NaN</td>\n",
       "      <td>NaN</td>\n",
       "      <td>NaN</td>\n",
       "      <td>NaN</td>\n",
       "      <td>NaN</td>\n",
       "      <td>NaN</td>\n",
       "    </tr>\n",
       "    <tr>\n",
       "      <th>3</th>\n",
       "      <td>2018-05-31 23:38:40</td>\n",
       "      <td>checkout</td>\n",
       "      <td>0004b0a2</td>\n",
       "      <td>NaN</td>\n",
       "      <td>2694.0</td>\n",
       "      <td>iPhone 5s</td>\n",
       "      <td>Bom</td>\n",
       "      <td>32GB</td>\n",
       "      <td>Cinza espacial</td>\n",
       "      <td>NaN</td>\n",
       "      <td>...</td>\n",
       "      <td>NaN</td>\n",
       "      <td>NaN</td>\n",
       "      <td>NaN</td>\n",
       "      <td>NaN</td>\n",
       "      <td>NaN</td>\n",
       "      <td>NaN</td>\n",
       "      <td>NaN</td>\n",
       "      <td>NaN</td>\n",
       "      <td>NaN</td>\n",
       "      <td>NaN</td>\n",
       "    </tr>\n",
       "    <tr>\n",
       "      <th>4</th>\n",
       "      <td>2018-05-29 13:29:25</td>\n",
       "      <td>viewed product</td>\n",
       "      <td>0006a21a</td>\n",
       "      <td>NaN</td>\n",
       "      <td>15338.0</td>\n",
       "      <td>Samsung Galaxy S8</td>\n",
       "      <td>Bom</td>\n",
       "      <td>64GB</td>\n",
       "      <td>Dourado</td>\n",
       "      <td>NaN</td>\n",
       "      <td>...</td>\n",
       "      <td>NaN</td>\n",
       "      <td>NaN</td>\n",
       "      <td>NaN</td>\n",
       "      <td>NaN</td>\n",
       "      <td>NaN</td>\n",
       "      <td>NaN</td>\n",
       "      <td>NaN</td>\n",
       "      <td>NaN</td>\n",
       "      <td>NaN</td>\n",
       "      <td>NaN</td>\n",
       "    </tr>\n",
       "  </tbody>\n",
       "</table>\n",
       "<p>5 rows × 23 columns</p>\n",
       "</div>"
      ],
      "text/plain": [
       "             timestamp            event    person                        url  \\\n",
       "0  2018-05-31 23:38:05  ad campaign hit  0004b0a2  /comprar/iphone/iphone-5s   \n",
       "1  2018-05-31 23:38:05     visited site  0004b0a2                        NaN   \n",
       "2  2018-05-31 23:38:09   viewed product  0004b0a2                        NaN   \n",
       "3  2018-05-31 23:38:40         checkout  0004b0a2                        NaN   \n",
       "4  2018-05-29 13:29:25   viewed product  0006a21a                        NaN   \n",
       "\n",
       "       sku              model condition storage           color skus  \\\n",
       "0      NaN                NaN       NaN     NaN             NaN  NaN   \n",
       "1      NaN                NaN       NaN     NaN             NaN  NaN   \n",
       "2   2694.0          iPhone 5s       Bom    32GB  Cinza espacial  NaN   \n",
       "3   2694.0          iPhone 5s       Bom    32GB  Cinza espacial  NaN   \n",
       "4  15338.0  Samsung Galaxy S8       Bom    64GB         Dourado  NaN   \n",
       "\n",
       "         ...        search_engine channel new_vs_returning        city  \\\n",
       "0        ...                  NaN     NaN              NaN         NaN   \n",
       "1        ...                  NaN    Paid              New  Camaragibe   \n",
       "2        ...                  NaN     NaN              NaN         NaN   \n",
       "3        ...                  NaN     NaN              NaN         NaN   \n",
       "4        ...                  NaN     NaN              NaN         NaN   \n",
       "\n",
       "       region country device_type screen_resolution operating_system_version  \\\n",
       "0         NaN     NaN         NaN               NaN                      NaN   \n",
       "1  Pernambuco  Brazil  Smartphone           360x640                Android 6   \n",
       "2         NaN     NaN         NaN               NaN                      NaN   \n",
       "3         NaN     NaN         NaN               NaN                      NaN   \n",
       "4         NaN     NaN         NaN               NaN                      NaN   \n",
       "\n",
       "    browser_version  \n",
       "0               NaN  \n",
       "1  Chrome Mobile 39  \n",
       "2               NaN  \n",
       "3               NaN  \n",
       "4               NaN  \n",
       "\n",
       "[5 rows x 23 columns]"
      ]
     },
     "execution_count": 3,
     "metadata": {},
     "output_type": "execute_result"
    }
   ],
   "source": [
    "trocafoneData.head()"
   ]
  },
  {
   "cell_type": "code",
   "execution_count": 4,
   "metadata": {},
   "outputs": [
    {
     "name": "stdout",
     "output_type": "stream",
     "text": [
      "<class 'pandas.core.frame.DataFrame'>\n",
      "RangeIndex: 1011288 entries, 0 to 1011287\n",
      "Data columns (total 23 columns):\n",
      "timestamp                   1011288 non-null object\n",
      "event                       1011288 non-null object\n",
      "person                      1011288 non-null object\n",
      "url                         82756 non-null object\n",
      "sku                         563838 non-null object\n",
      "model                       564284 non-null object\n",
      "condition                   563836 non-null object\n",
      "storage                     563836 non-null object\n",
      "color                       563836 non-null object\n",
      "skus                        221699 non-null object\n",
      "search_term                 48967 non-null object\n",
      "staticpage                  3598 non-null object\n",
      "campaign_source             82796 non-null object\n",
      "search_engine               50957 non-null object\n",
      "channel                     87378 non-null object\n",
      "new_vs_returning            87378 non-null object\n",
      "city                        87378 non-null object\n",
      "region                      87378 non-null object\n",
      "country                     87378 non-null object\n",
      "device_type                 87378 non-null object\n",
      "screen_resolution           87378 non-null object\n",
      "operating_system_version    87378 non-null object\n",
      "browser_version             87378 non-null object\n",
      "dtypes: object(23)\n",
      "memory usage: 177.5+ MB\n"
     ]
    }
   ],
   "source": [
    "trocafoneData.info()"
   ]
  },
  {
   "cell_type": "code",
   "execution_count": 5,
   "metadata": {},
   "outputs": [
    {
     "data": {
      "text/plain": [
       "Returning    60480\n",
       "New          26898\n",
       "Name: new_vs_returning, dtype: int64"
      ]
     },
     "execution_count": 5,
     "metadata": {},
     "output_type": "execute_result"
    }
   ],
   "source": [
    "trocafoneData['new_vs_returning'].value_counts()"
   ]
  },
  {
   "cell_type": "code",
   "execution_count": 6,
   "metadata": {},
   "outputs": [
    {
     "data": {
      "text/plain": [
       "Bom                   243014\n",
       "Excelente             152977\n",
       "Muito Bom             151359\n",
       "Bom - Sem Touch ID     15295\n",
       "Novo                    1191\n",
       "Name: condition, dtype: int64"
      ]
     },
     "execution_count": 6,
     "metadata": {},
     "output_type": "execute_result"
    }
   ],
   "source": [
    "trocafoneData['condition'].value_counts()"
   ]
  },
  {
   "cell_type": "code",
   "execution_count": 7,
   "metadata": {},
   "outputs": [
    {
     "data": {
      "text/html": [
       "<div>\n",
       "<style scoped>\n",
       "    .dataframe tbody tr th:only-of-type {\n",
       "        vertical-align: middle;\n",
       "    }\n",
       "\n",
       "    .dataframe tbody tr th {\n",
       "        vertical-align: top;\n",
       "    }\n",
       "\n",
       "    .dataframe thead th {\n",
       "        text-align: right;\n",
       "    }\n",
       "</style>\n",
       "<table border=\"1\" class=\"dataframe\">\n",
       "  <thead>\n",
       "    <tr style=\"text-align: right;\">\n",
       "      <th></th>\n",
       "      <th>timestamp</th>\n",
       "      <th>event</th>\n",
       "      <th>person</th>\n",
       "      <th>url</th>\n",
       "      <th>sku</th>\n",
       "      <th>model</th>\n",
       "      <th>condition</th>\n",
       "      <th>storage</th>\n",
       "      <th>color</th>\n",
       "      <th>skus</th>\n",
       "      <th>...</th>\n",
       "      <th>new_vs_returning</th>\n",
       "      <th>city</th>\n",
       "      <th>region</th>\n",
       "      <th>country</th>\n",
       "      <th>device_type</th>\n",
       "      <th>screen_resolution</th>\n",
       "      <th>operating_system_version</th>\n",
       "      <th>browser_version</th>\n",
       "      <th>date</th>\n",
       "      <th>time</th>\n",
       "    </tr>\n",
       "  </thead>\n",
       "  <tbody>\n",
       "    <tr>\n",
       "      <th>0</th>\n",
       "      <td>2018-05-31 23:38:05</td>\n",
       "      <td>ad campaign hit</td>\n",
       "      <td>0004b0a2</td>\n",
       "      <td>/comprar/iphone/iphone-5s</td>\n",
       "      <td>NaN</td>\n",
       "      <td>NaN</td>\n",
       "      <td>NaN</td>\n",
       "      <td>NaN</td>\n",
       "      <td>NaN</td>\n",
       "      <td>NaN</td>\n",
       "      <td>...</td>\n",
       "      <td>NaN</td>\n",
       "      <td>NaN</td>\n",
       "      <td>NaN</td>\n",
       "      <td>NaN</td>\n",
       "      <td>NaN</td>\n",
       "      <td>NaN</td>\n",
       "      <td>NaN</td>\n",
       "      <td>NaN</td>\n",
       "      <td>2018-05-31</td>\n",
       "      <td>23:38:05</td>\n",
       "    </tr>\n",
       "    <tr>\n",
       "      <th>1</th>\n",
       "      <td>2018-05-31 23:38:05</td>\n",
       "      <td>visited site</td>\n",
       "      <td>0004b0a2</td>\n",
       "      <td>NaN</td>\n",
       "      <td>NaN</td>\n",
       "      <td>NaN</td>\n",
       "      <td>NaN</td>\n",
       "      <td>NaN</td>\n",
       "      <td>NaN</td>\n",
       "      <td>NaN</td>\n",
       "      <td>...</td>\n",
       "      <td>New</td>\n",
       "      <td>Camaragibe</td>\n",
       "      <td>Pernambuco</td>\n",
       "      <td>Brazil</td>\n",
       "      <td>Smartphone</td>\n",
       "      <td>360x640</td>\n",
       "      <td>Android 6</td>\n",
       "      <td>Chrome Mobile 39</td>\n",
       "      <td>2018-05-31</td>\n",
       "      <td>23:38:05</td>\n",
       "    </tr>\n",
       "    <tr>\n",
       "      <th>2</th>\n",
       "      <td>2018-05-31 23:38:09</td>\n",
       "      <td>viewed product</td>\n",
       "      <td>0004b0a2</td>\n",
       "      <td>NaN</td>\n",
       "      <td>2694.0</td>\n",
       "      <td>iPhone 5s</td>\n",
       "      <td>Bom</td>\n",
       "      <td>32GB</td>\n",
       "      <td>Cinza espacial</td>\n",
       "      <td>NaN</td>\n",
       "      <td>...</td>\n",
       "      <td>NaN</td>\n",
       "      <td>NaN</td>\n",
       "      <td>NaN</td>\n",
       "      <td>NaN</td>\n",
       "      <td>NaN</td>\n",
       "      <td>NaN</td>\n",
       "      <td>NaN</td>\n",
       "      <td>NaN</td>\n",
       "      <td>2018-05-31</td>\n",
       "      <td>23:38:09</td>\n",
       "    </tr>\n",
       "    <tr>\n",
       "      <th>3</th>\n",
       "      <td>2018-05-31 23:38:40</td>\n",
       "      <td>checkout</td>\n",
       "      <td>0004b0a2</td>\n",
       "      <td>NaN</td>\n",
       "      <td>2694.0</td>\n",
       "      <td>iPhone 5s</td>\n",
       "      <td>Bom</td>\n",
       "      <td>32GB</td>\n",
       "      <td>Cinza espacial</td>\n",
       "      <td>NaN</td>\n",
       "      <td>...</td>\n",
       "      <td>NaN</td>\n",
       "      <td>NaN</td>\n",
       "      <td>NaN</td>\n",
       "      <td>NaN</td>\n",
       "      <td>NaN</td>\n",
       "      <td>NaN</td>\n",
       "      <td>NaN</td>\n",
       "      <td>NaN</td>\n",
       "      <td>2018-05-31</td>\n",
       "      <td>23:38:40</td>\n",
       "    </tr>\n",
       "    <tr>\n",
       "      <th>4</th>\n",
       "      <td>2018-05-29 13:29:25</td>\n",
       "      <td>viewed product</td>\n",
       "      <td>0006a21a</td>\n",
       "      <td>NaN</td>\n",
       "      <td>15338.0</td>\n",
       "      <td>Samsung Galaxy S8</td>\n",
       "      <td>Bom</td>\n",
       "      <td>64GB</td>\n",
       "      <td>Dourado</td>\n",
       "      <td>NaN</td>\n",
       "      <td>...</td>\n",
       "      <td>NaN</td>\n",
       "      <td>NaN</td>\n",
       "      <td>NaN</td>\n",
       "      <td>NaN</td>\n",
       "      <td>NaN</td>\n",
       "      <td>NaN</td>\n",
       "      <td>NaN</td>\n",
       "      <td>NaN</td>\n",
       "      <td>2018-05-29</td>\n",
       "      <td>13:29:25</td>\n",
       "    </tr>\n",
       "  </tbody>\n",
       "</table>\n",
       "<p>5 rows × 25 columns</p>\n",
       "</div>"
      ],
      "text/plain": [
       "             timestamp            event    person                        url  \\\n",
       "0  2018-05-31 23:38:05  ad campaign hit  0004b0a2  /comprar/iphone/iphone-5s   \n",
       "1  2018-05-31 23:38:05     visited site  0004b0a2                        NaN   \n",
       "2  2018-05-31 23:38:09   viewed product  0004b0a2                        NaN   \n",
       "3  2018-05-31 23:38:40         checkout  0004b0a2                        NaN   \n",
       "4  2018-05-29 13:29:25   viewed product  0006a21a                        NaN   \n",
       "\n",
       "       sku              model condition storage           color skus  \\\n",
       "0      NaN                NaN       NaN     NaN             NaN  NaN   \n",
       "1      NaN                NaN       NaN     NaN             NaN  NaN   \n",
       "2   2694.0          iPhone 5s       Bom    32GB  Cinza espacial  NaN   \n",
       "3   2694.0          iPhone 5s       Bom    32GB  Cinza espacial  NaN   \n",
       "4  15338.0  Samsung Galaxy S8       Bom    64GB         Dourado  NaN   \n",
       "\n",
       "     ...    new_vs_returning        city      region country device_type  \\\n",
       "0    ...                 NaN         NaN         NaN     NaN         NaN   \n",
       "1    ...                 New  Camaragibe  Pernambuco  Brazil  Smartphone   \n",
       "2    ...                 NaN         NaN         NaN     NaN         NaN   \n",
       "3    ...                 NaN         NaN         NaN     NaN         NaN   \n",
       "4    ...                 NaN         NaN         NaN     NaN         NaN   \n",
       "\n",
       "  screen_resolution operating_system_version   browser_version        date  \\\n",
       "0               NaN                      NaN               NaN  2018-05-31   \n",
       "1           360x640                Android 6  Chrome Mobile 39  2018-05-31   \n",
       "2               NaN                      NaN               NaN  2018-05-31   \n",
       "3               NaN                      NaN               NaN  2018-05-31   \n",
       "4               NaN                      NaN               NaN  2018-05-29   \n",
       "\n",
       "       time  \n",
       "0  23:38:05  \n",
       "1  23:38:05  \n",
       "2  23:38:09  \n",
       "3  23:38:40  \n",
       "4  13:29:25  \n",
       "\n",
       "[5 rows x 25 columns]"
      ]
     },
     "execution_count": 7,
     "metadata": {},
     "output_type": "execute_result"
    }
   ],
   "source": [
    "#Creo columnas para poder utilizar la fecha y el horario mas comodamente\n",
    "trocafoneData['date'] = pd.to_datetime(trocafoneData['timestamp']).dt.date\n",
    "trocafoneData['time'] = pd.to_datetime(trocafoneData['timestamp']).dt.time\n",
    "trocafoneData.head()"
   ]
  },
  {
   "cell_type": "code",
   "execution_count": 8,
   "metadata": {},
   "outputs": [
    {
     "data": {
      "text/plain": [
       "False"
      ]
     },
     "execution_count": 8,
     "metadata": {},
     "output_type": "execute_result"
    }
   ],
   "source": [
    "#Veo si hay filas duplicadas con los mismos valores en todas las columnas\n",
    "trocafoneData.duplicated().any()"
   ]
  },
  {
   "cell_type": "code",
   "execution_count": 31,
   "metadata": {},
   "outputs": [
    {
     "data": {
      "text/plain": [
       "False"
      ]
     },
     "execution_count": 31,
     "metadata": {},
     "output_type": "execute_result"
    }
   ],
   "source": [
    "#Nuls en timestamp\n",
    "trocafoneData['timestamp'].isnull().any()"
   ]
  },
  {
   "cell_type": "markdown",
   "metadata": {},
   "source": [
    "## Estudio segun los productos y los eventos"
   ]
  },
  {
   "cell_type": "code",
   "execution_count": 184,
   "metadata": {},
   "outputs": [
    {
     "data": {
      "image/png": "[encoded data removed]",
      "text/plain": [
       "<Figure size 1008x576 with 1 Axes>"
      ]
     },
     "metadata": {
      "needs_background": "light"
     },
     "output_type": "display_data"
    }
   ],
   "source": [
    "#Modelos con mas checkouts\n",
    "modelsData = trocafoneData[trocafoneData['model'] != 'Nan']\n",
    "modelsData = modelsData[modelsData['event'] == 'checkout']\n",
    "modelsPlot = modelsData['model'].value_counts().head(10).plot(kind = 'barh',figsize =(14,8));\n",
    "modelsPlot.set_title('Los 10 modelos de celular con mayor chekouts', fontsize = 17, color = 'blue')\n",
    "modelsPlot.set_xlabel('Numero de checkouts', color = 'blue', fontsize = 15)\n",
    "modelsPlot.set_ylabel('Modelo de celular', color = 'blue', fontsize = 15);"
   ]
  },
  {
   "cell_type": "code",
   "execution_count": 188,
   "metadata": {},
   "outputs": [
    {
     "data": {
      "image/png": "[encoded data removed]",
      "text/plain": [
       "<Figure size 1008x576 with 1 Axes>"
      ]
     },
     "metadata": {
      "needs_background": "light"
     },
     "output_type": "display_data"
    }
   ],
   "source": [
    "#Sistemas operativos que mas se visitan\n",
    "osData = trocafoneData[trocafoneData['operating_system_version'] != 'Nan']\n",
    "osData = osData[osData['event'] == 'visited site']\n",
    "osData = osData[osData['device_type'] == 'Smartphone']\n",
    "osData_plot = osData['operating_system_version'].value_counts().head(10).plot(kind = 'barh',figsize =(14,8));\n",
    "osData_plot.set_title('Los 10 OS de celulares mas vistos', fontsize = 17, color = 'blue')\n",
    "osData_plot.set_xlabel('Cantidad de vistas', color = 'blue', fontsize = 15)\n",
    "osData_plot.set_ylabel('OS', color = 'blue', fontsize = 15);"
   ]
  },
  {
   "cell_type": "code",
   "execution_count": 191,
   "metadata": {},
   "outputs": [
    {
     "data": {
      "image/png": "[encoded data removed]",
      "text/plain": [
       "<Figure size 1008x576 with 1 Axes>"
      ]
     },
     "metadata": {
      "needs_background": "light"
     },
     "output_type": "display_data"
    }
   ],
   "source": [
    "#Resoluciones que mas se visitan\n",
    "screen_resolution = trocafoneData[trocafoneData['screen_resolution'] != 'Nan']\n",
    "screen_resolution = screen_resolution[screen_resolution['event'] == 'visited site']\n",
    "screen_resolution = screen_resolution[screen_resolution['device_type'] == 'Smartphone']\n",
    "screen_resolution_plot = screen_resolution['screen_resolution'].value_counts().head(10).plot(kind = 'barh', figsize =(14,8));\n",
    "screen_resolution_plot.set_title('Los 10 resoluciones de celulares mas vistas', fontsize = 17, color = 'blue')\n",
    "screen_resolution_plot.set_xlabel('Cantidad de vistas', color = 'blue', fontsize = 15)\n",
    "screen_resolution_plot.set_ylabel('Resolucion', color = 'blue', fontsize = 15);"
   ]
  },
  {
   "cell_type": "markdown",
   "metadata": {},
   "source": [
    "**RARO QUE LA MAS VISTA SEA UNA RESOLUCION TAN BAJA. Y EN GENERAL APARECEN TODAS MUY BAJAS**"
   ]
  },
  {
   "cell_type": "code",
   "execution_count": 175,
   "metadata": {},
   "outputs": [
    {
     "data": {
      "text/plain": [
       "Series([], Name: model, dtype: int64)"
      ]
     },
     "execution_count": 175,
     "metadata": {},
     "output_type": "execute_result"
    }
   ],
   "source": [
    "trocafoneData[trocafoneData['event'] == 'visited site']['model'].value_counts()"
   ]
  },
  {
   "cell_type": "markdown",
   "metadata": {},
   "source": [
    "**QUERIA HACER UNA COMPARATIVA CON LOS MODELOS MAS VISTOS, LAS RESOLUCIONES Y LOS OS MAS VISTOS PERO NO\n",
    "NO HAY DATOS DE MODELOS EN EL EVENTO 'VISITED SITE'**"
   ]
  },
  {
   "cell_type": "code",
   "execution_count": null,
   "metadata": {},
   "outputs": [],
   "source": [
    "trocafoneData[trocafoneData['event'] != 'visited site']['operating_system_version'].value_counts()"
   ]
  },
  {
   "cell_type": "markdown",
   "metadata": {},
   "source": [
    "**SOLO HAY DATOS DE LOS OS EN EL EVENTO 'VISITED SITE'**"
   ]
  },
  {
   "cell_type": "code",
   "execution_count": 165,
   "metadata": {},
   "outputs": [
    {
     "data": {
      "text/plain": [
       "Series([], Name: screen_resolution, dtype: int64)"
      ]
     },
     "execution_count": 165,
     "metadata": {},
     "output_type": "execute_result"
    }
   ],
   "source": [
    "trocafoneData[trocafoneData['event'] != 'visited site']['screen_resolution'].value_counts()"
   ]
  },
  {
   "cell_type": "markdown",
   "metadata": {},
   "source": [
    "**SOLO HAY DATOS DE RESOLUCIONES EN EL EVENTO 'VISITED SITE'**"
   ]
  },
  {
   "cell_type": "code",
   "execution_count": 33,
   "metadata": {},
   "outputs": [
    {
     "data": {
      "text/plain": [
       "False"
      ]
     },
     "execution_count": 33,
     "metadata": {},
     "output_type": "execute_result"
    }
   ],
   "source": [
    "#Chequeo de elementos nulos en la columna de los eventos\n",
    "trocafoneData['event'].isnull().any()"
   ]
  },
  {
   "cell_type": "code",
   "execution_count": 34,
   "metadata": {},
   "outputs": [
    {
     "data": {
      "text/plain": [
       "viewed product       52.302707\n",
       "brand listing         9.753404\n",
       "visited site          8.640269\n",
       "ad campaign hit       8.190248\n",
       "generic listing       6.678019\n",
       "searched products     5.544711\n",
       "search engine hit     5.038822\n",
       "checkout              3.335845\n",
       "staticpage            0.355784\n",
       "conversion            0.115892\n",
       "lead                  0.044300\n",
       "Name: event, dtype: float64"
      ]
     },
     "execution_count": 34,
     "metadata": {},
     "output_type": "execute_result"
    }
   ],
   "source": [
    "(trocafoneData['event'].value_counts()*100)/trocafoneData['event'].value_counts().sum()"
   ]
  },
  {
   "cell_type": "code",
   "execution_count": 35,
   "metadata": {},
   "outputs": [
    {
     "data": {
      "image/png": "[encoded data removed]",
      "text/plain": [
       "<Figure size 1008x576 with 1 Axes>"
      ]
     },
     "metadata": {
      "needs_background": "light"
     },
     "output_type": "display_data"
    }
   ],
   "source": [
    "#Grafico\n",
    "#eventos = ((trocafoneData['event'].value_counts()*100)/trocafoneData['event'].value_counts().sum()).plot(figsize=(14,8), kind='barh');\n",
    "eventos = np.log(trocafoneData['event'].value_counts()).plot(figsize=(14,8), kind='barh')\n",
    "eventos.set_title('Ocurrencia de cada evento en el set de datos (Escala Logaritmica)',fontsize = 17, color = 'blue');\n",
    "eventos.set_xlabel('Cantidad de ocurrencias (LOG)', color = 'blue', fontsize = 15);\n",
    "eventos.set_ylabel('Tipo de Evento', color = 'blue', fontsize = 15);"
   ]
  },
  {
   "cell_type": "markdown",
   "metadata": {},
   "source": [
    "El evento predominante es \"Viewed product\", mas del 50% del total."
   ]
  },
  {
   "cell_type": "code",
   "execution_count": 38,
   "metadata": {},
   "outputs": [
    {
     "data": {
      "text/html": [
       "<div>\n",
       "<style scoped>\n",
       "    .dataframe tbody tr th:only-of-type {\n",
       "        vertical-align: middle;\n",
       "    }\n",
       "\n",
       "    .dataframe tbody tr th {\n",
       "        vertical-align: top;\n",
       "    }\n",
       "\n",
       "    .dataframe thead th {\n",
       "        text-align: right;\n",
       "    }\n",
       "</style>\n",
       "<table border=\"1\" class=\"dataframe\">\n",
       "  <thead>\n",
       "    <tr style=\"text-align: right;\">\n",
       "      <th></th>\n",
       "      <th>timestamp</th>\n",
       "      <th>event</th>\n",
       "      <th>person</th>\n",
       "      <th>url</th>\n",
       "      <th>sku</th>\n",
       "      <th>model</th>\n",
       "      <th>condition</th>\n",
       "      <th>storage</th>\n",
       "      <th>color</th>\n",
       "      <th>skus</th>\n",
       "      <th>...</th>\n",
       "      <th>new_vs_returning</th>\n",
       "      <th>city</th>\n",
       "      <th>region</th>\n",
       "      <th>country</th>\n",
       "      <th>device_type</th>\n",
       "      <th>screen_resolution</th>\n",
       "      <th>operating_system_version</th>\n",
       "      <th>browser_version</th>\n",
       "      <th>date</th>\n",
       "      <th>time</th>\n",
       "    </tr>\n",
       "  </thead>\n",
       "  <tbody>\n",
       "    <tr>\n",
       "      <th>2</th>\n",
       "      <td>2018-05-31 23:38:09</td>\n",
       "      <td>viewed product</td>\n",
       "      <td>0004b0a2</td>\n",
       "      <td>NaN</td>\n",
       "      <td>2694.0</td>\n",
       "      <td>iPhone 5s</td>\n",
       "      <td>Bom</td>\n",
       "      <td>32GB</td>\n",
       "      <td>Cinza espacial</td>\n",
       "      <td>NaN</td>\n",
       "      <td>...</td>\n",
       "      <td>NaN</td>\n",
       "      <td>NaN</td>\n",
       "      <td>NaN</td>\n",
       "      <td>NaN</td>\n",
       "      <td>NaN</td>\n",
       "      <td>NaN</td>\n",
       "      <td>NaN</td>\n",
       "      <td>NaN</td>\n",
       "      <td>2018-05-31</td>\n",
       "      <td>23:38:09</td>\n",
       "    </tr>\n",
       "    <tr>\n",
       "      <th>4</th>\n",
       "      <td>2018-05-29 13:29:25</td>\n",
       "      <td>viewed product</td>\n",
       "      <td>0006a21a</td>\n",
       "      <td>NaN</td>\n",
       "      <td>15338.0</td>\n",
       "      <td>Samsung Galaxy S8</td>\n",
       "      <td>Bom</td>\n",
       "      <td>64GB</td>\n",
       "      <td>Dourado</td>\n",
       "      <td>NaN</td>\n",
       "      <td>...</td>\n",
       "      <td>NaN</td>\n",
       "      <td>NaN</td>\n",
       "      <td>NaN</td>\n",
       "      <td>NaN</td>\n",
       "      <td>NaN</td>\n",
       "      <td>NaN</td>\n",
       "      <td>NaN</td>\n",
       "      <td>NaN</td>\n",
       "      <td>2018-05-29</td>\n",
       "      <td>13:29:25</td>\n",
       "    </tr>\n",
       "    <tr>\n",
       "      <th>13</th>\n",
       "      <td>2018-04-09 20:13:14</td>\n",
       "      <td>viewed product</td>\n",
       "      <td>000a54b2</td>\n",
       "      <td>NaN</td>\n",
       "      <td>12661.0</td>\n",
       "      <td>Motorola Moto Z Play</td>\n",
       "      <td>Muito Bom</td>\n",
       "      <td>32GB</td>\n",
       "      <td>Preto</td>\n",
       "      <td>NaN</td>\n",
       "      <td>...</td>\n",
       "      <td>NaN</td>\n",
       "      <td>NaN</td>\n",
       "      <td>NaN</td>\n",
       "      <td>NaN</td>\n",
       "      <td>NaN</td>\n",
       "      <td>NaN</td>\n",
       "      <td>NaN</td>\n",
       "      <td>NaN</td>\n",
       "      <td>2018-04-09</td>\n",
       "      <td>20:13:14</td>\n",
       "    </tr>\n",
       "    <tr>\n",
       "      <th>22</th>\n",
       "      <td>2018-05-24 11:27:47</td>\n",
       "      <td>viewed product</td>\n",
       "      <td>000a54b2</td>\n",
       "      <td>NaN</td>\n",
       "      <td>10254.0</td>\n",
       "      <td>iPhone 7 Plus</td>\n",
       "      <td>Excelente</td>\n",
       "      <td>256GB</td>\n",
       "      <td>Dourado</td>\n",
       "      <td>NaN</td>\n",
       "      <td>...</td>\n",
       "      <td>NaN</td>\n",
       "      <td>NaN</td>\n",
       "      <td>NaN</td>\n",
       "      <td>NaN</td>\n",
       "      <td>NaN</td>\n",
       "      <td>NaN</td>\n",
       "      <td>NaN</td>\n",
       "      <td>NaN</td>\n",
       "      <td>2018-05-24</td>\n",
       "      <td>11:27:47</td>\n",
       "    </tr>\n",
       "    <tr>\n",
       "      <th>26</th>\n",
       "      <td>2018-05-24 11:28:59</td>\n",
       "      <td>viewed product</td>\n",
       "      <td>000a54b2</td>\n",
       "      <td>NaN</td>\n",
       "      <td>6581.0</td>\n",
       "      <td>iPhone 6S</td>\n",
       "      <td>Bom</td>\n",
       "      <td>16GB</td>\n",
       "      <td>Cinza espacial</td>\n",
       "      <td>NaN</td>\n",
       "      <td>...</td>\n",
       "      <td>NaN</td>\n",
       "      <td>NaN</td>\n",
       "      <td>NaN</td>\n",
       "      <td>NaN</td>\n",
       "      <td>NaN</td>\n",
       "      <td>NaN</td>\n",
       "      <td>NaN</td>\n",
       "      <td>NaN</td>\n",
       "      <td>2018-05-24</td>\n",
       "      <td>11:28:59</td>\n",
       "    </tr>\n",
       "  </tbody>\n",
       "</table>\n",
       "<p>5 rows × 25 columns</p>\n",
       "</div>"
      ],
      "text/plain": [
       "              timestamp           event    person  url      sku  \\\n",
       "2   2018-05-31 23:38:09  viewed product  0004b0a2  NaN   2694.0   \n",
       "4   2018-05-29 13:29:25  viewed product  0006a21a  NaN  15338.0   \n",
       "13  2018-04-09 20:13:14  viewed product  000a54b2  NaN  12661.0   \n",
       "22  2018-05-24 11:27:47  viewed product  000a54b2  NaN  10254.0   \n",
       "26  2018-05-24 11:28:59  viewed product  000a54b2  NaN   6581.0   \n",
       "\n",
       "                   model  condition storage           color skus    ...     \\\n",
       "2              iPhone 5s        Bom    32GB  Cinza espacial  NaN    ...      \n",
       "4      Samsung Galaxy S8        Bom    64GB         Dourado  NaN    ...      \n",
       "13  Motorola Moto Z Play  Muito Bom    32GB           Preto  NaN    ...      \n",
       "22         iPhone 7 Plus  Excelente   256GB         Dourado  NaN    ...      \n",
       "26             iPhone 6S        Bom    16GB  Cinza espacial  NaN    ...      \n",
       "\n",
       "   new_vs_returning city region country device_type screen_resolution  \\\n",
       "2               NaN  NaN    NaN     NaN         NaN               NaN   \n",
       "4               NaN  NaN    NaN     NaN         NaN               NaN   \n",
       "13              NaN  NaN    NaN     NaN         NaN               NaN   \n",
       "22              NaN  NaN    NaN     NaN         NaN               NaN   \n",
       "26              NaN  NaN    NaN     NaN         NaN               NaN   \n",
       "\n",
       "   operating_system_version browser_version        date      time  \n",
       "2                       NaN             NaN  2018-05-31  23:38:09  \n",
       "4                       NaN             NaN  2018-05-29  13:29:25  \n",
       "13                      NaN             NaN  2018-04-09  20:13:14  \n",
       "22                      NaN             NaN  2018-05-24  11:27:47  \n",
       "26                      NaN             NaN  2018-05-24  11:28:59  \n",
       "\n",
       "[5 rows x 25 columns]"
      ]
     },
     "execution_count": 38,
     "metadata": {},
     "output_type": "execute_result"
    }
   ],
   "source": [
    "#Filtro filas con sku distinto de nulo y que tengan como evento 'conversion'\n",
    "views = trocafoneData[(trocafoneData['event'] == 'viewed product') & (trocafoneData['sku']!= 'NaN')]\n",
    "views.head()"
   ]
  },
  {
   "cell_type": "code",
   "execution_count": 39,
   "metadata": {},
   "outputs": [
    {
     "data": {
      "image/png": "[encoded data removed]",
      "text/plain": [
       "<Figure size 1008x576 with 1 Axes>"
      ]
     },
     "metadata": {
      "needs_background": "light"
     },
     "output_type": "display_data"
    }
   ],
   "source": [
    "conv_plot = views['model'].value_counts().head(10).plot(figsize=(14,8), kind='barh')\n",
    "conv_plot.set_title('10 productos con mayor cantidad de visitas', fontsize = 20, color = 'blue');\n",
    "conv_plot.set_xlabel('Numero de visitas', color = 'blue', fontsize = 18);\n",
    "conv_plot.set_ylabel('Modelo del producto', color = 'blue', fontsize = 18);"
   ]
  },
  {
   "cell_type": "code",
   "execution_count": 40,
   "metadata": {},
   "outputs": [
    {
     "data": {
      "text/html": [
       "<div>\n",
       "<style scoped>\n",
       "    .dataframe tbody tr th:only-of-type {\n",
       "        vertical-align: middle;\n",
       "    }\n",
       "\n",
       "    .dataframe tbody tr th {\n",
       "        vertical-align: top;\n",
       "    }\n",
       "\n",
       "    .dataframe thead th {\n",
       "        text-align: right;\n",
       "    }\n",
       "</style>\n",
       "<table border=\"1\" class=\"dataframe\">\n",
       "  <thead>\n",
       "    <tr style=\"text-align: right;\">\n",
       "      <th></th>\n",
       "      <th>timestamp</th>\n",
       "      <th>event</th>\n",
       "      <th>person</th>\n",
       "      <th>url</th>\n",
       "      <th>sku</th>\n",
       "      <th>model</th>\n",
       "      <th>condition</th>\n",
       "      <th>storage</th>\n",
       "      <th>color</th>\n",
       "      <th>skus</th>\n",
       "      <th>...</th>\n",
       "      <th>new_vs_returning</th>\n",
       "      <th>city</th>\n",
       "      <th>region</th>\n",
       "      <th>country</th>\n",
       "      <th>device_type</th>\n",
       "      <th>screen_resolution</th>\n",
       "      <th>operating_system_version</th>\n",
       "      <th>browser_version</th>\n",
       "      <th>date</th>\n",
       "      <th>time</th>\n",
       "    </tr>\n",
       "  </thead>\n",
       "  <tbody>\n",
       "    <tr>\n",
       "      <th>220</th>\n",
       "      <td>2018-03-20 17:46:12</td>\n",
       "      <td>conversion</td>\n",
       "      <td>00204059</td>\n",
       "      <td>NaN</td>\n",
       "      <td>3084.0</td>\n",
       "      <td>Motorola Moto X2</td>\n",
       "      <td>Muito Bom</td>\n",
       "      <td>32GB</td>\n",
       "      <td>Couro Vintage</td>\n",
       "      <td>NaN</td>\n",
       "      <td>...</td>\n",
       "      <td>NaN</td>\n",
       "      <td>NaN</td>\n",
       "      <td>NaN</td>\n",
       "      <td>NaN</td>\n",
       "      <td>NaN</td>\n",
       "      <td>NaN</td>\n",
       "      <td>NaN</td>\n",
       "      <td>NaN</td>\n",
       "      <td>2018-03-20</td>\n",
       "      <td>17:46:12</td>\n",
       "    </tr>\n",
       "    <tr>\n",
       "      <th>2282</th>\n",
       "      <td>2018-04-26 22:28:53</td>\n",
       "      <td>conversion</td>\n",
       "      <td>00c13dee</td>\n",
       "      <td>NaN</td>\n",
       "      <td>6650.0</td>\n",
       "      <td>Samsung Galaxy Core Plus Duos TV</td>\n",
       "      <td>Muito Bom</td>\n",
       "      <td>4GB</td>\n",
       "      <td>Branco</td>\n",
       "      <td>NaN</td>\n",
       "      <td>...</td>\n",
       "      <td>NaN</td>\n",
       "      <td>NaN</td>\n",
       "      <td>NaN</td>\n",
       "      <td>NaN</td>\n",
       "      <td>NaN</td>\n",
       "      <td>NaN</td>\n",
       "      <td>NaN</td>\n",
       "      <td>NaN</td>\n",
       "      <td>2018-04-26</td>\n",
       "      <td>22:28:53</td>\n",
       "    </tr>\n",
       "    <tr>\n",
       "      <th>2547</th>\n",
       "      <td>2018-06-10 14:37:50</td>\n",
       "      <td>conversion</td>\n",
       "      <td>00fdbb4b</td>\n",
       "      <td>NaN</td>\n",
       "      <td>3348.0</td>\n",
       "      <td>Samsung Galaxy S6 Flat</td>\n",
       "      <td>Muito Bom</td>\n",
       "      <td>32GB</td>\n",
       "      <td>Branco</td>\n",
       "      <td>NaN</td>\n",
       "      <td>...</td>\n",
       "      <td>NaN</td>\n",
       "      <td>NaN</td>\n",
       "      <td>NaN</td>\n",
       "      <td>NaN</td>\n",
       "      <td>NaN</td>\n",
       "      <td>NaN</td>\n",
       "      <td>NaN</td>\n",
       "      <td>NaN</td>\n",
       "      <td>2018-06-10</td>\n",
       "      <td>14:37:50</td>\n",
       "    </tr>\n",
       "    <tr>\n",
       "      <th>4245</th>\n",
       "      <td>2018-03-16 13:50:25</td>\n",
       "      <td>conversion</td>\n",
       "      <td>0146a9df</td>\n",
       "      <td>NaN</td>\n",
       "      <td>2694.0</td>\n",
       "      <td>iPhone 5s</td>\n",
       "      <td>Bom</td>\n",
       "      <td>32GB</td>\n",
       "      <td>Cinza espacial</td>\n",
       "      <td>NaN</td>\n",
       "      <td>...</td>\n",
       "      <td>NaN</td>\n",
       "      <td>NaN</td>\n",
       "      <td>NaN</td>\n",
       "      <td>NaN</td>\n",
       "      <td>NaN</td>\n",
       "      <td>NaN</td>\n",
       "      <td>NaN</td>\n",
       "      <td>NaN</td>\n",
       "      <td>2018-03-16</td>\n",
       "      <td>13:50:25</td>\n",
       "    </tr>\n",
       "    <tr>\n",
       "      <th>6985</th>\n",
       "      <td>2018-02-09 22:07:07</td>\n",
       "      <td>conversion</td>\n",
       "      <td>01db2fe6</td>\n",
       "      <td>NaN</td>\n",
       "      <td>6357.0</td>\n",
       "      <td>Samsung Galaxy J5</td>\n",
       "      <td>Bom</td>\n",
       "      <td>16GB</td>\n",
       "      <td>Preto</td>\n",
       "      <td>NaN</td>\n",
       "      <td>...</td>\n",
       "      <td>NaN</td>\n",
       "      <td>NaN</td>\n",
       "      <td>NaN</td>\n",
       "      <td>NaN</td>\n",
       "      <td>NaN</td>\n",
       "      <td>NaN</td>\n",
       "      <td>NaN</td>\n",
       "      <td>NaN</td>\n",
       "      <td>2018-02-09</td>\n",
       "      <td>22:07:07</td>\n",
       "    </tr>\n",
       "  </tbody>\n",
       "</table>\n",
       "<p>5 rows × 25 columns</p>\n",
       "</div>"
      ],
      "text/plain": [
       "                timestamp       event    person  url     sku  \\\n",
       "220   2018-03-20 17:46:12  conversion  00204059  NaN  3084.0   \n",
       "2282  2018-04-26 22:28:53  conversion  00c13dee  NaN  6650.0   \n",
       "2547  2018-06-10 14:37:50  conversion  00fdbb4b  NaN  3348.0   \n",
       "4245  2018-03-16 13:50:25  conversion  0146a9df  NaN  2694.0   \n",
       "6985  2018-02-09 22:07:07  conversion  01db2fe6  NaN  6357.0   \n",
       "\n",
       "                                 model  condition storage           color  \\\n",
       "220                   Motorola Moto X2  Muito Bom    32GB   Couro Vintage   \n",
       "2282  Samsung Galaxy Core Plus Duos TV  Muito Bom     4GB          Branco   \n",
       "2547            Samsung Galaxy S6 Flat  Muito Bom    32GB          Branco   \n",
       "4245                         iPhone 5s        Bom    32GB  Cinza espacial   \n",
       "6985                 Samsung Galaxy J5        Bom    16GB           Preto   \n",
       "\n",
       "     skus    ...    new_vs_returning city region country device_type  \\\n",
       "220   NaN    ...                 NaN  NaN    NaN     NaN         NaN   \n",
       "2282  NaN    ...                 NaN  NaN    NaN     NaN         NaN   \n",
       "2547  NaN    ...                 NaN  NaN    NaN     NaN         NaN   \n",
       "4245  NaN    ...                 NaN  NaN    NaN     NaN         NaN   \n",
       "6985  NaN    ...                 NaN  NaN    NaN     NaN         NaN   \n",
       "\n",
       "     screen_resolution operating_system_version browser_version        date  \\\n",
       "220                NaN                      NaN             NaN  2018-03-20   \n",
       "2282               NaN                      NaN             NaN  2018-04-26   \n",
       "2547               NaN                      NaN             NaN  2018-06-10   \n",
       "4245               NaN                      NaN             NaN  2018-03-16   \n",
       "6985               NaN                      NaN             NaN  2018-02-09   \n",
       "\n",
       "          time  \n",
       "220   17:46:12  \n",
       "2282  22:28:53  \n",
       "2547  14:37:50  \n",
       "4245  13:50:25  \n",
       "6985  22:07:07  \n",
       "\n",
       "[5 rows x 25 columns]"
      ]
     },
     "execution_count": 40,
     "metadata": {},
     "output_type": "execute_result"
    }
   ],
   "source": [
    "#Filtro filas con sku distinto de nulo y que tengan como evento 'conversion'\n",
    "conversions = trocafoneData[(trocafoneData['event'] == 'conversion') & (trocafoneData['sku']!= 'NaN')]\n",
    "conversions.head()"
   ]
  },
  {
   "cell_type": "code",
   "execution_count": 56,
   "metadata": {},
   "outputs": [
    {
     "data": {
      "image/png": "[encoded data removed]",
      "text/plain": [
       "<Figure size 1008x576 with 1 Axes>"
      ]
     },
     "metadata": {
      "needs_background": "light"
     },
     "output_type": "display_data"
    }
   ],
   "source": [
    "conv_plot = conversions['model'].value_counts().head(5).plot(figsize=(14,8), kind='barh')\n",
    "conv_plot.set_title('5 Productos con mayor cantidad de conversiones (Compras)', fontsize = 15, color = 'blue');\n",
    "conv_plot.set_xlabel('Numero de conversiones', color = 'blue', fontsize = 13);\n",
    "conv_plot.set_ylabel('Modelo del producto', color = 'blue', fontsize = 13);"
   ]
  },
  {
   "cell_type": "code",
   "execution_count": 57,
   "metadata": {},
   "outputs": [
    {
     "data": {
      "text/plain": [
       "0         ad campaign hit\n",
       "1            visited site\n",
       "2          viewed product\n",
       "3                checkout\n",
       "8         generic listing\n",
       "10      search engine hit\n",
       "12          brand listing\n",
       "157     searched products\n",
       "220            conversion\n",
       "254            staticpage\n",
       "3248                 lead\n",
       "Name: event, dtype: object"
      ]
     },
     "execution_count": 57,
     "metadata": {},
     "output_type": "execute_result"
    }
   ],
   "source": [
    "trocafoneData['event'].drop_duplicates()"
   ]
  },
  {
   "cell_type": "code",
   "execution_count": 58,
   "metadata": {},
   "outputs": [],
   "source": [
    "df=trocafoneData"
   ]
  },
  {
   "cell_type": "code",
   "execution_count": 59,
   "metadata": {},
   "outputs": [
    {
     "data": {
      "text/html": [
       "<div>\n",
       "<style scoped>\n",
       "    .dataframe tbody tr th:only-of-type {\n",
       "        vertical-align: middle;\n",
       "    }\n",
       "\n",
       "    .dataframe tbody tr th {\n",
       "        vertical-align: top;\n",
       "    }\n",
       "\n",
       "    .dataframe thead th {\n",
       "        text-align: right;\n",
       "    }\n",
       "</style>\n",
       "<table border=\"1\" class=\"dataframe\">\n",
       "  <thead>\n",
       "    <tr style=\"text-align: right;\">\n",
       "      <th></th>\n",
       "      <th>timestamp</th>\n",
       "      <th>event</th>\n",
       "      <th>person</th>\n",
       "      <th>url</th>\n",
       "      <th>sku</th>\n",
       "      <th>model</th>\n",
       "      <th>condition</th>\n",
       "      <th>storage</th>\n",
       "      <th>color</th>\n",
       "      <th>skus</th>\n",
       "      <th>...</th>\n",
       "      <th>new_vs_returning</th>\n",
       "      <th>city</th>\n",
       "      <th>region</th>\n",
       "      <th>country</th>\n",
       "      <th>device_type</th>\n",
       "      <th>screen_resolution</th>\n",
       "      <th>operating_system_version</th>\n",
       "      <th>browser_version</th>\n",
       "      <th>date</th>\n",
       "      <th>time</th>\n",
       "    </tr>\n",
       "  </thead>\n",
       "  <tbody>\n",
       "    <tr>\n",
       "      <th>3</th>\n",
       "      <td>2018-05-31 23:38:40</td>\n",
       "      <td>checkout</td>\n",
       "      <td>0004b0a2</td>\n",
       "      <td>NaN</td>\n",
       "      <td>2694.0</td>\n",
       "      <td>iPhone 5s</td>\n",
       "      <td>Bom</td>\n",
       "      <td>32GB</td>\n",
       "      <td>Cinza espacial</td>\n",
       "      <td>NaN</td>\n",
       "      <td>...</td>\n",
       "      <td>NaN</td>\n",
       "      <td>NaN</td>\n",
       "      <td>NaN</td>\n",
       "      <td>NaN</td>\n",
       "      <td>NaN</td>\n",
       "      <td>NaN</td>\n",
       "      <td>NaN</td>\n",
       "      <td>NaN</td>\n",
       "      <td>2018-05-31</td>\n",
       "      <td>23:38:40</td>\n",
       "    </tr>\n",
       "  </tbody>\n",
       "</table>\n",
       "<p>1 rows × 25 columns</p>\n",
       "</div>"
      ],
      "text/plain": [
       "             timestamp     event    person  url     sku      model condition  \\\n",
       "3  2018-05-31 23:38:40  checkout  0004b0a2  NaN  2694.0  iPhone 5s       Bom   \n",
       "\n",
       "  storage           color skus    ...    new_vs_returning city region country  \\\n",
       "3    32GB  Cinza espacial  NaN    ...                 NaN  NaN    NaN     NaN   \n",
       "\n",
       "  device_type screen_resolution operating_system_version browser_version  \\\n",
       "3         NaN               NaN                      NaN             NaN   \n",
       "\n",
       "         date      time  \n",
       "3  2018-05-31  23:38:40  \n",
       "\n",
       "[1 rows x 25 columns]"
      ]
     },
     "execution_count": 59,
     "metadata": {},
     "output_type": "execute_result"
    }
   ],
   "source": [
    "df[df['event'] == 'checkout'].head(1)"
   ]
  },
  {
   "cell_type": "code",
   "execution_count": 60,
   "metadata": {},
   "outputs": [
    {
     "data": {
      "text/html": [
       "<div>\n",
       "<style scoped>\n",
       "    .dataframe tbody tr th:only-of-type {\n",
       "        vertical-align: middle;\n",
       "    }\n",
       "\n",
       "    .dataframe tbody tr th {\n",
       "        vertical-align: top;\n",
       "    }\n",
       "\n",
       "    .dataframe thead th {\n",
       "        text-align: right;\n",
       "    }\n",
       "</style>\n",
       "<table border=\"1\" class=\"dataframe\">\n",
       "  <thead>\n",
       "    <tr style=\"text-align: right;\">\n",
       "      <th></th>\n",
       "      <th>timestamp</th>\n",
       "      <th>event</th>\n",
       "      <th>person</th>\n",
       "      <th>url</th>\n",
       "      <th>sku</th>\n",
       "      <th>model</th>\n",
       "      <th>condition</th>\n",
       "      <th>storage</th>\n",
       "      <th>color</th>\n",
       "      <th>skus</th>\n",
       "      <th>...</th>\n",
       "      <th>new_vs_returning</th>\n",
       "      <th>city</th>\n",
       "      <th>region</th>\n",
       "      <th>country</th>\n",
       "      <th>device_type</th>\n",
       "      <th>screen_resolution</th>\n",
       "      <th>operating_system_version</th>\n",
       "      <th>browser_version</th>\n",
       "      <th>date</th>\n",
       "      <th>time</th>\n",
       "    </tr>\n",
       "  </thead>\n",
       "  <tbody>\n",
       "    <tr>\n",
       "      <th>220</th>\n",
       "      <td>2018-03-20 17:46:12</td>\n",
       "      <td>conversion</td>\n",
       "      <td>00204059</td>\n",
       "      <td>NaN</td>\n",
       "      <td>3084.0</td>\n",
       "      <td>Motorola Moto X2</td>\n",
       "      <td>Muito Bom</td>\n",
       "      <td>32GB</td>\n",
       "      <td>Couro Vintage</td>\n",
       "      <td>NaN</td>\n",
       "      <td>...</td>\n",
       "      <td>NaN</td>\n",
       "      <td>NaN</td>\n",
       "      <td>NaN</td>\n",
       "      <td>NaN</td>\n",
       "      <td>NaN</td>\n",
       "      <td>NaN</td>\n",
       "      <td>NaN</td>\n",
       "      <td>NaN</td>\n",
       "      <td>2018-03-20</td>\n",
       "      <td>17:46:12</td>\n",
       "    </tr>\n",
       "    <tr>\n",
       "      <th>2282</th>\n",
       "      <td>2018-04-26 22:28:53</td>\n",
       "      <td>conversion</td>\n",
       "      <td>00c13dee</td>\n",
       "      <td>NaN</td>\n",
       "      <td>6650.0</td>\n",
       "      <td>Samsung Galaxy Core Plus Duos TV</td>\n",
       "      <td>Muito Bom</td>\n",
       "      <td>4GB</td>\n",
       "      <td>Branco</td>\n",
       "      <td>NaN</td>\n",
       "      <td>...</td>\n",
       "      <td>NaN</td>\n",
       "      <td>NaN</td>\n",
       "      <td>NaN</td>\n",
       "      <td>NaN</td>\n",
       "      <td>NaN</td>\n",
       "      <td>NaN</td>\n",
       "      <td>NaN</td>\n",
       "      <td>NaN</td>\n",
       "      <td>2018-04-26</td>\n",
       "      <td>22:28:53</td>\n",
       "    </tr>\n",
       "    <tr>\n",
       "      <th>2547</th>\n",
       "      <td>2018-06-10 14:37:50</td>\n",
       "      <td>conversion</td>\n",
       "      <td>00fdbb4b</td>\n",
       "      <td>NaN</td>\n",
       "      <td>3348.0</td>\n",
       "      <td>Samsung Galaxy S6 Flat</td>\n",
       "      <td>Muito Bom</td>\n",
       "      <td>32GB</td>\n",
       "      <td>Branco</td>\n",
       "      <td>NaN</td>\n",
       "      <td>...</td>\n",
       "      <td>NaN</td>\n",
       "      <td>NaN</td>\n",
       "      <td>NaN</td>\n",
       "      <td>NaN</td>\n",
       "      <td>NaN</td>\n",
       "      <td>NaN</td>\n",
       "      <td>NaN</td>\n",
       "      <td>NaN</td>\n",
       "      <td>2018-06-10</td>\n",
       "      <td>14:37:50</td>\n",
       "    </tr>\n",
       "    <tr>\n",
       "      <th>4245</th>\n",
       "      <td>2018-03-16 13:50:25</td>\n",
       "      <td>conversion</td>\n",
       "      <td>0146a9df</td>\n",
       "      <td>NaN</td>\n",
       "      <td>2694.0</td>\n",
       "      <td>iPhone 5s</td>\n",
       "      <td>Bom</td>\n",
       "      <td>32GB</td>\n",
       "      <td>Cinza espacial</td>\n",
       "      <td>NaN</td>\n",
       "      <td>...</td>\n",
       "      <td>NaN</td>\n",
       "      <td>NaN</td>\n",
       "      <td>NaN</td>\n",
       "      <td>NaN</td>\n",
       "      <td>NaN</td>\n",
       "      <td>NaN</td>\n",
       "      <td>NaN</td>\n",
       "      <td>NaN</td>\n",
       "      <td>2018-03-16</td>\n",
       "      <td>13:50:25</td>\n",
       "    </tr>\n",
       "    <tr>\n",
       "      <th>6985</th>\n",
       "      <td>2018-02-09 22:07:07</td>\n",
       "      <td>conversion</td>\n",
       "      <td>01db2fe6</td>\n",
       "      <td>NaN</td>\n",
       "      <td>6357.0</td>\n",
       "      <td>Samsung Galaxy J5</td>\n",
       "      <td>Bom</td>\n",
       "      <td>16GB</td>\n",
       "      <td>Preto</td>\n",
       "      <td>NaN</td>\n",
       "      <td>...</td>\n",
       "      <td>NaN</td>\n",
       "      <td>NaN</td>\n",
       "      <td>NaN</td>\n",
       "      <td>NaN</td>\n",
       "      <td>NaN</td>\n",
       "      <td>NaN</td>\n",
       "      <td>NaN</td>\n",
       "      <td>NaN</td>\n",
       "      <td>2018-02-09</td>\n",
       "      <td>22:07:07</td>\n",
       "    </tr>\n",
       "  </tbody>\n",
       "</table>\n",
       "<p>5 rows × 25 columns</p>\n",
       "</div>"
      ],
      "text/plain": [
       "                timestamp       event    person  url     sku  \\\n",
       "220   2018-03-20 17:46:12  conversion  00204059  NaN  3084.0   \n",
       "2282  2018-04-26 22:28:53  conversion  00c13dee  NaN  6650.0   \n",
       "2547  2018-06-10 14:37:50  conversion  00fdbb4b  NaN  3348.0   \n",
       "4245  2018-03-16 13:50:25  conversion  0146a9df  NaN  2694.0   \n",
       "6985  2018-02-09 22:07:07  conversion  01db2fe6  NaN  6357.0   \n",
       "\n",
       "                                 model  condition storage           color  \\\n",
       "220                   Motorola Moto X2  Muito Bom    32GB   Couro Vintage   \n",
       "2282  Samsung Galaxy Core Plus Duos TV  Muito Bom     4GB          Branco   \n",
       "2547            Samsung Galaxy S6 Flat  Muito Bom    32GB          Branco   \n",
       "4245                         iPhone 5s        Bom    32GB  Cinza espacial   \n",
       "6985                 Samsung Galaxy J5        Bom    16GB           Preto   \n",
       "\n",
       "     skus    ...    new_vs_returning city region country device_type  \\\n",
       "220   NaN    ...                 NaN  NaN    NaN     NaN         NaN   \n",
       "2282  NaN    ...                 NaN  NaN    NaN     NaN         NaN   \n",
       "2547  NaN    ...                 NaN  NaN    NaN     NaN         NaN   \n",
       "4245  NaN    ...                 NaN  NaN    NaN     NaN         NaN   \n",
       "6985  NaN    ...                 NaN  NaN    NaN     NaN         NaN   \n",
       "\n",
       "     screen_resolution operating_system_version browser_version        date  \\\n",
       "220                NaN                      NaN             NaN  2018-03-20   \n",
       "2282               NaN                      NaN             NaN  2018-04-26   \n",
       "2547               NaN                      NaN             NaN  2018-06-10   \n",
       "4245               NaN                      NaN             NaN  2018-03-16   \n",
       "6985               NaN                      NaN             NaN  2018-02-09   \n",
       "\n",
       "          time  \n",
       "220   17:46:12  \n",
       "2282  22:28:53  \n",
       "2547  14:37:50  \n",
       "4245  13:50:25  \n",
       "6985  22:07:07  \n",
       "\n",
       "[5 rows x 25 columns]"
      ]
     },
     "execution_count": 60,
     "metadata": {},
     "output_type": "execute_result"
    }
   ],
   "source": [
    "df[df['event'] == 'conversion'].head()"
   ]
  },
  {
   "cell_type": "code",
   "execution_count": 61,
   "metadata": {},
   "outputs": [
    {
     "data": {
      "image/png": "[encoded data removed]",
      "text/plain": [
       "<Figure size 1008x576 with 1 Axes>"
      ]
     },
     "metadata": {
      "needs_background": "light"
     },
     "output_type": "display_data"
    }
   ],
   "source": [
    "conv_plot = np.log(conversions['condition'].value_counts()).plot(figsize=(14,8), kind='bar')\n",
    "conv_plot.set_title('Cantidad de conversiones segun condicion (Escala Logaritmica)', fontsize = 20, color = 'blue');\n",
    "conv_plot.set_xlabel('Numero de conversiones (LOG)', color = 'blue', fontsize = 18);\n",
    "conv_plot.set_ylabel('Condicion del producto', color = 'blue', fontsize = 18);"
   ]
  },
  {
   "cell_type": "code",
   "execution_count": null,
   "metadata": {},
   "outputs": [],
   "source": []
  },
  {
   "cell_type": "markdown",
   "metadata": {},
   "source": [
    "## Estudio segun los usuarios"
   ]
  },
  {
   "cell_type": "code",
   "execution_count": 62,
   "metadata": {},
   "outputs": [
    {
     "data": {
      "text/plain": [
       "False"
      ]
     },
     "execution_count": 62,
     "metadata": {},
     "output_type": "execute_result"
    }
   ],
   "source": [
    "#Chequeo de elementos nulos en la columna de los usuarios\n",
    "trocafoneData['person'].isnull().any()"
   ]
  },
  {
   "cell_type": "code",
   "execution_count": 63,
   "metadata": {},
   "outputs": [
    {
     "data": {
      "text/plain": [
       "71492f2b    2771\n",
       "6b07be7b    2770\n",
       "285101a1    2140\n",
       "3e34b3cf    1877\n",
       "2d5a84c1    1800\n",
       "5f25cb5d    1797\n",
       "5af7e2bc    1773\n",
       "3b5a5833    1705\n",
       "d7e60792    1352\n",
       "cd6e0b8d    1254\n",
       "Name: person, dtype: int64"
      ]
     },
     "execution_count": 63,
     "metadata": {},
     "output_type": "execute_result"
    }
   ],
   "source": [
    "trocafoneData['person'].value_counts().head(10)"
   ]
  },
  {
   "cell_type": "code",
   "execution_count": 64,
   "metadata": {},
   "outputs": [
    {
     "data": {
      "image/png": "[encoded data removed]",
      "text/plain": [
       "<Figure size 432x288 with 1 Axes>"
      ]
     },
     "metadata": {
      "needs_background": "light"
     },
     "output_type": "display_data"
    }
   ],
   "source": [
    "#Los 10 usuarios con mayor actividad en la plataforma\n",
    "users = (trocafoneData['person'].value_counts().head(10)).plot(kind='barh');\n",
    "users.set_title('Los 10 usuarios con mayor actividad en la plataforma',fontsize = 15, color = 'blue');\n",
    "users.set_xlabel('Numero de interacciones en la plataforma', color = 'blue', fontsize = 13);\n",
    "users.set_ylabel('Codigo de usuario', color = 'blue', fontsize = 13);"
   ]
  },
  {
   "cell_type": "markdown",
   "metadata": {},
   "source": [
    "## Estudio segun dias y meses"
   ]
  },
  {
   "cell_type": "code",
   "execution_count": 65,
   "metadata": {},
   "outputs": [
    {
     "data": {
      "image/png": "[encoded data removed]",
      "text/plain": [
       "<Figure size 1008x576 with 1 Axes>"
      ]
     },
     "metadata": {
      "needs_background": "light"
     },
     "output_type": "display_data"
    }
   ],
   "source": [
    "#Distribucion de la actidad del sitio segun el mes\n",
    "monthPlot = pd.to_datetime(trocafoneData['date']).dt.month.hist(figsize = (14,8),bins = 6, edgecolor = 'black');\n",
    "monthPlot.set_title('Distribucion de la actividad del sitio segun el mes', fontsize = 15, color = 'green')\n",
    "monthPlot.set_xlabel('Mes', color = 'green', fontsize = 13)\n",
    "monthPlot.set_ylabel('Actividad', color = 'green', fontsize = 13);"
   ]
  },
  {
   "cell_type": "code",
   "execution_count": 66,
   "metadata": {},
   "outputs": [
    {
     "data": {
      "image/png": "[encoded data removed]",
      "text/plain": [
       "<Figure size 1008x576 with 1 Axes>"
      ]
     },
     "metadata": {
      "needs_background": "light"
     },
     "output_type": "display_data"
    }
   ],
   "source": [
    "#Distribucion de la actidad del sitio segun el dia de la semana\n",
    "fig = plt.figure()\n",
    "daysPlot = fig.add_subplot(111)\n",
    "plt.title('Distribucion de la actividad del sitio segun el dia del mes', fontsize = 20, color = 'green')\n",
    "\n",
    "daysPlot.set_xlabel('Dia', color = 'green', fontsize = 14)\n",
    "\n",
    "pd.to_datetime(trocafoneData['date']).dt.day.hist(figsize=(14,8), bins = 31, edgecolor = 'black')\n",
    "\n",
    "daysPlot.set_ylabel('Recuento de actividad', color = 'green', fontsize = 14)\n",
    "daysPlot.set_xlim(1, 31 )\n",
    "plt.show()"
   ]
  },
  {
   "cell_type": "code",
   "execution_count": 67,
   "metadata": {
    "scrolled": false
   },
   "outputs": [
    {
     "data": {
      "text/plain": [
       "(0, 23)"
      ]
     },
     "execution_count": 67,
     "metadata": {},
     "output_type": "execute_result"
    },
    {
     "data": {
      "image/png": "[encoded data removed]",
      "text/plain": [
       "<Figure size 1008x576 with 1 Axes>"
      ]
     },
     "metadata": {
      "needs_background": "light"
     },
     "output_type": "display_data"
    }
   ],
   "source": [
    "#Distribucion de la actidad del sitio segun la hora del dia\n",
    "hoursPlot = pd.to_datetime(trocafoneData['timestamp']).dt.hour.hist(figsize=(14,8), bins = 24, edgecolor = 'black')\n",
    "hoursPlot.set_title('Distribucion de la actividad en el sitio segun la hora del dia',fontsize = 20, color = 'green')\n",
    "hoursPlot.set_xlabel('Hora del dia (formato 24hs)', fontsize = 18 , color = 'green')\n",
    "hoursPlot.set_ylabel('Actividad en el sitio', fontsize = 18 , color = 'green');\n",
    "daysPlot.set_xlim(0, 23 )"
   ]
  },
  {
   "cell_type": "markdown",
   "metadata": {},
   "source": [
    "## Estudio segun los paises"
   ]
  },
  {
   "cell_type": "code",
   "execution_count": 68,
   "metadata": {},
   "outputs": [
    {
     "data": {
      "image/png": "[encoded data removed]",
      "text/plain": [
       "<Figure size 720x576 with 1 Axes>"
      ]
     },
     "metadata": {
      "needs_background": "light"
     },
     "output_type": "display_data"
    }
   ],
   "source": [
    "country_visitSite = trocafoneData[trocafoneData['event'] == 'visited site']\n",
    "country_visitSite = country_visitSite[country_visitSite['country'] != 'Unknown']\n",
    "plt.title('Distribucion de los 10 paises que mas visitan la pagina (Escala Logaritmica)', fontsize = 17, color ='Blue')\n",
    "plt.xlabel('Cantidad de visitas (LOG)',fontsize = 15, color = 'Blue')\n",
    "plt.ylabel('Pais',fontsize = 15, color = 'Blue')\n",
    "np.log(country_visitSite['country'].value_counts()).head(10).plot(figsize = (10,8), kind='barh');"
   ]
  },
  {
   "cell_type": "code",
   "execution_count": 89,
   "metadata": {},
   "outputs": [
    {
     "data": {
      "text/plain": [
       "viewed product       528931\n",
       "brand listing         98635\n",
       "visited site          87378\n",
       "ad campaign hit       82827\n",
       "generic listing       67534\n",
       "searched products     56073\n",
       "search engine hit     50957\n",
       "checkout              33735\n",
       "staticpage             3598\n",
       "conversion             1172\n",
       "lead                    448\n",
       "Name: event, dtype: int64"
      ]
     },
     "execution_count": 89,
     "metadata": {},
     "output_type": "execute_result"
    }
   ],
   "source": [
    "trocafoneData['event'].value_counts()"
   ]
  },
  {
   "cell_type": "code",
   "execution_count": 95,
   "metadata": {},
   "outputs": [
    {
     "data": {
      "text/plain": [
       "Series([], Name: country, dtype: int64)"
      ]
     },
     "execution_count": 95,
     "metadata": {},
     "output_type": "execute_result"
    }
   ],
   "source": [
    "checkout = trocafoneData[trocafoneData['event'] == 'checkout']\n",
    "checkout['country'].value_counts()"
   ]
  },
  {
   "cell_type": "markdown",
   "metadata": {},
   "source": [
    "No hay datos de paises para el evento 'checkout'"
   ]
  },
  {
   "cell_type": "code",
   "execution_count": 90,
   "metadata": {},
   "outputs": [
    {
     "data": {
      "text/plain": [
       "Series([], Name: country, dtype: int64)"
      ]
     },
     "execution_count": 90,
     "metadata": {},
     "output_type": "execute_result"
    }
   ],
   "source": [
    "viewed_product = trocafoneData[trocafoneData['event'] == 'viewed product']\n",
    "viewed_product['country'].value_counts()"
   ]
  },
  {
   "cell_type": "markdown",
   "metadata": {},
   "source": [
    "No hay datos de paises para el evento 'viewed product'"
   ]
  },
  {
   "cell_type": "code",
   "execution_count": 91,
   "metadata": {},
   "outputs": [
    {
     "data": {
      "text/plain": [
       "Series([], Name: country, dtype: int64)"
      ]
     },
     "execution_count": 91,
     "metadata": {},
     "output_type": "execute_result"
    }
   ],
   "source": [
    "searched_products = trocafoneData[trocafoneData['event'] == 'searched products']\n",
    "searched_products['country'].value_counts()"
   ]
  },
  {
   "cell_type": "markdown",
   "metadata": {},
   "source": [
    "No hay datos de paises para el evento 'searched products'"
   ]
  },
  {
   "cell_type": "code",
   "execution_count": 92,
   "metadata": {},
   "outputs": [
    {
     "data": {
      "text/plain": [
       "Series([], Name: country, dtype: int64)"
      ]
     },
     "execution_count": 92,
     "metadata": {},
     "output_type": "execute_result"
    }
   ],
   "source": [
    "conversion = trocafoneData[trocafoneData['event'] == 'conversion']\n",
    "conversion['country'].value_counts()"
   ]
  },
  {
   "cell_type": "markdown",
   "metadata": {},
   "source": [
    "No hay datos de paises para el evento 'conversion'"
   ]
  },
  {
   "cell_type": "code",
   "execution_count": 97,
   "metadata": {},
   "outputs": [
    {
     "data": {
      "text/plain": [
       "Series([], Name: country, dtype: int64)"
      ]
     },
     "execution_count": 97,
     "metadata": {},
     "output_type": "execute_result"
    }
   ],
   "source": [
    "trocafoneData[trocafoneData['event'] != 'visited site']['country'].value_counts()"
   ]
  },
  {
   "cell_type": "markdown",
   "metadata": {},
   "source": [
    "**NO HAY DATOS DE PAISES EN NINGUN EVENTO QUE NO SEA 'VISITED SITE'**"
   ]
  },
  {
   "cell_type": "code",
   "execution_count": 107,
   "metadata": {
    "collapsed": true
   },
   "outputs": [
    {
     "data": {
      "text/plain": [
       "Brazil                84308\n",
       "Unknown                2313\n",
       "United States           465\n",
       "Argentina                94\n",
       "Canada                   35\n",
       "France                   13\n",
       "Netherlands              13\n",
       "Mozambique               12\n",
       "United Kingdom           12\n",
       "Japan                    11\n",
       "Poland                    9\n",
       "French Guiana             8\n",
       "Romania                   7\n",
       "Italy                     7\n",
       "Portugal                  7\n",
       "Russia                    6\n",
       "Guadeloupe                6\n",
       "Dominican Republic        6\n",
       "Germany                   5\n",
       "Paraguay                  4\n",
       "Bangladesh                4\n",
       "Colombia                  4\n",
       "Switzerland               3\n",
       "Angola                    2\n",
       "Morocco                   2\n",
       "India                     2\n",
       "Ireland                   1\n",
       "Algeria                   1\n",
       "Denmark                   1\n",
       "Uruguay                   1\n",
       "Peru                      1\n",
       "Uzbekistan                1\n",
       "China                     1\n",
       "Mexico                    1\n",
       "Saudi Arabia              1\n",
       "Cape Verde                1\n",
       "Belize                    1\n",
       "South Africa              1\n",
       "Spain                     1\n",
       "Turkey                    1\n",
       "Philippines               1\n",
       "Zimbabwe                  1\n",
       "Sri Lanka                 1\n",
       "Rwanda                    1\n",
       "Venezuela                 1\n",
       "Israel                    1\n",
       "Name: country, dtype: int64"
      ]
     },
     "execution_count": 107,
     "metadata": {},
     "output_type": "execute_result"
    }
   ],
   "source": [
    "trocafoneData[trocafoneData['model'] != 'NaN']['country'].value_counts()"
   ]
  },
  {
   "cell_type": "code",
   "execution_count": 181,
   "metadata": {},
   "outputs": [],
   "source": [
    "#paises_eventos = trocafoneData[['event','country']]\n",
    "#benchs_number = 11\n",
    "#benchs_names = ['Viewed product','brand list','visited site','ad campaign hit','generic listing','searched products','search engine hit','checkout','staticpage','conversion','lead']\n",
    "\n",
    "#bra = paises_eventos[paises_eventos['country'] == 'Brazil']\n",
    "#usa = paises_eventos[paises_eventos['country'] == 'United States']\n",
    "#arg = paises_eventos[paises_eventos['country'] == 'Argentina']\n",
    "#can = paises_eventos[paises_eventos['country'] == 'Canada']\n",
    "#ned = paises_eventos[paises_eventos['country'] == 'Netherlands']\n",
    "#fra = paises_eventos[paises_eventos['country'] == 'France']\n",
    "#uk = paises_eventos[paises_eventos['country'] == 'United Kingdom']\n",
    "\n",
    "#Uso una escala logaritmica asi se pueden ver mejor los datos en el grafico\n",
    "#num_bra = np.log(bra['event'].value_counts() +1).sort_index()\n",
    "#num_usa = np.log(usa['event'].value_counts() +1).sort_index()\n",
    "#num_arg = np.log(arg['event'].value_counts() +1).sort_index()\n",
    "#num_can = np.log(can['event'].value_counts() +1).sort_index()\n",
    "#num_ned = np.log(ned['event'].value_counts() +1).sort_index()\n",
    "#num_fra = np.log(fra['event'].value_counts() +1).sort_index()\n",
    "#num_uk = np.log(uk['event'].value_counts() +1).sort_index()\n",
    "\n",
    "#index = np.arange(len(benchs_names))\n",
    "\n",
    "#bar_width = 0.2\n",
    "#opacity = 0.5\n",
    "\n",
    "#plt.barh(figsize =(14,8),index, num_bra, bar_width, alpha=0.7,color='y',label='Brazi')\n",
    "#plt.barh(figsize =(14,8),index+bar_width, num_usa, bar_width, alpha=0.7,color='r',label='USA')\n",
    "#plt.barh(figsize =(14,8),index+2*bar_width, num_arg, bar_width, alpha=0.7,color='b',label='ARG')\n",
    "#plt.barh(figsize =(14,8),index+3*bar_width, num_can, bar_width, alpha=0.7,color='c',label='CAN')\n",
    "#plt.barh(figsize =(14,8),index+4*bar_width, num_ned, bar_width, alpha=0.7,color='g',label='NED')\n",
    "#plt.barh(figsize =(14,8),index+5*bar_width, num_fra, bar_width, alpha=0.7,color='Black',label='FRA')\n",
    "#plt.barh(figsize =(14,8),index+6*bar_width, num_uk, bar_width, alpha=0.7,color='fuchsia',label='UK')\n",
    "\n",
    "#plt.grid(True, axis='x', linewidth=0.2)\n",
    "#plt.title('Distribucion de los eventos por pais (escala logaritmica)',fontsize = 15)\n",
    "#plt.ylabel('Eventos')\n",
    "#plt.xlabel('Numero de eventos (log)')\n",
    "#plt.yticks(index + 2*bar_width, benchs_names)\n",
    "#plt.legend()\n",
    "#plt.tight_layout()\n",
    "#plt.show()"
   ]
  }
 ],
 "metadata": {
  "kernelspec": {
   "display_name": "Python 3",
   "language": "python",
   "name": "python3"
  },
  "language_info": {
   "codemirror_mode": {
    "name": "ipython",
    "version": 3
   },
   "file_extension": ".py",
   "mimetype": "text/x-python",
   "name": "python",
   "nbconvert_exporter": "python",
   "pygments_lexer": "ipython3",
   "version": "3.7.0"
  }
 },
 "nbformat": 4,
 "nbformat_minor": 2
}
